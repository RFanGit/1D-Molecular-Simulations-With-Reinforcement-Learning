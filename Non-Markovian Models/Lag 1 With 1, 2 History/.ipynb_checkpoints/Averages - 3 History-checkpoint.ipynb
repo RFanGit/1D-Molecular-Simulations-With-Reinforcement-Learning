{
  "cells": [
    {
      "cell_type": "code",
      "execution_count": 2,
      "id": "704b1ec0-d17f-4200-8b6c-e0cab2b83bfc",
      "metadata": {},
      "outputs": [
        {
          "name": "stdout",
          "output_type": "stream",
          "text": [
            "Done for all the seeds for average  1\n",
            "Done for all the seeds for average  2\n",
            "Done for all the seeds for average  5\n",
            "Done for all the seeds for average  10\n",
            "Done for all the seeds for average  20\n",
            "Done for all the seeds for average  30\n",
            "Done for all the seeds for average  50\n",
            "Done!\n"
          ]
        }
      ],
      "source": [
        "import gymnasium as gym\n",
        "import numpy as np\n",
        "import matplotlib.pyplot as plt\n",
        "\n",
        "import time\n",
        "import random\n",
        "\n",
        "from gymnasium import spaces\n",
        "import molcontrol\n",
        "\n",
        "## Parameters\n",
        "steps = 100000\n",
        "molecule_lifetime = 1.0\n",
        "dt = 0.5\n",
        "history_length = 4\n",
        "observable_indices = np.array([1, 2, 3])\n",
        "\n",
        "##Seed\n",
        "forget_param = 1/1000.0\n",
        "\n",
        "def lookup_table(steps, target, molecule_lifetime, dt, history_length, observable_indices, upper_mol, forget_param, RUN_SEED):\n",
        "    average_death = target * dt/molecule_lifetime\n",
        "    action_array, counter_array = molcontrol.table_init(len(observable_indices), upper_mol, average_death)\n",
        "    rewards_overtime = molcontrol.tabular_molecule_controller(action_array, counter_array, forget_param, steps, target, molecule_lifetime, dt, history_length, observable_indices, RUN_SEED)\n",
        "    return rewards_overtime, action_array, counter_array\n",
        "\n",
        "##We run both of these functions for a large number of seeds and display the averaged results\n",
        "RUN_SEEDS = np.arange(0, 10)\n",
        "\n",
        "target_avgs = np.array([1, 2, 5, 10, 20, 30, 50])\n",
        "for target in target_avgs:\n",
        "    table_rewards = []\n",
        "    action_arrays = []\n",
        "    opt_reward = []\n",
        "    upper_mol = target*3 + 10\n",
        "    for SEED in RUN_SEEDS:\n",
        "        rewards_overtime, action_array, counter_array = lookup_table(steps, target, molecule_lifetime, dt, history_length, observable_indices, upper_mol, forget_param, SEED)\n",
        "        table_rewards.append(rewards_overtime)\n",
        "        action_arrays.append(action_array)\n",
        "    \n",
        "    reward_array = np.stack(table_rewards)\n",
        "    action_arrs = np.stack(action_arrays)\n",
        "    \n",
        "    np.savetxt(\"reward_array\"+str(target)+\".txt\", reward_array)\n",
        "    \n",
        "    print (\"Done for all the seeds for average \", target)\n",
        "print (\"Done!\")\n",
        "\n"
      ]
    },
    {
      "cell_type": "code",
      "execution_count": 5,
      "id": "584d403b-a2c9-489e-b336-e356d3e44171",
      "metadata": {},
      "outputs": [],
      "source": [
        "import numpy as np\n",
        "import matplotlib.pyplot as plt\n",
        "\n",
        "target_avgs = np.array([1, 2, 5, 10, 20, 30, 50])\n",
        "reward_means_tgt = []\n",
        "reward_stds_tgt = []\n",
        "\n",
        "for target in target_avgs:\n",
        "    filename = \"reward_array\" + str(target) + \".txt\"\n",
        "    reward_array = np.loadtxt(filename)\n",
        "\n",
        "    # Compute the average of the last X elements for each array, and the overall mean and standard deviation of these averages\n",
        "    # Since we want variability, which is the negative reward, we'll insert a negative sign\n",
        "    reward_array_averages = np.mean(-reward_array[:, -50000:], axis=1)\n",
        "    overall_mean_reward = np.mean(reward_array_averages)\n",
        "    overall_std_reward = np.std(reward_array_averages)\n",
        "\n",
        "    reward_means_tgt.append(overall_mean_reward)\n",
        "    reward_stds_tgt.append(overall_std_reward)\n",
        "    \n",
        "np.savetxt(\"reward_means_lag1history12.txt\", reward_means_tgt)\n",
        "np.savetxt(\"reward_std_lag1history12.txt\", reward_stds_tgt)\n"
      ]
    },
    {
      "cell_type": "code",
      "execution_count": null,
      "id": "bb1e559e-b1cc-46c1-9c68-d0bca3ed34f2",
      "metadata": {},
      "outputs": [],
      "source": []
    }
  ],
  "metadata": {
    "kernelspec": {
      "display_name": "Python 3 (ipykernel)",
      "language": "python",
      "name": "python3"
    },
    "language_info": {
      "codemirror_mode": {
        "name": "ipython",
        "version": 3
      },
      "file_extension": ".py",
      "mimetype": "text/x-python",
      "name": "python",
      "nbconvert_exporter": "python",
      "pygments_lexer": "ipython3",
      "version": "3.11.7"
    }
  },
  "nbformat": 4,
  "nbformat_minor": 5
}