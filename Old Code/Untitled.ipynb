{
 "cells": [
  {
   "cell_type": "code",
   "execution_count": 2,
   "id": "30692df9-a88a-4850-b630-ff9c633272f9",
   "metadata": {},
   "outputs": [
    {
     "name": "stdout",
     "output_type": "stream",
     "text": [
      "Success rate: 0.0\n"
     ]
    }
   ],
   "source": [
    "import random\n",
    "\n",
    "def run_simulation(X, Y, probability, C, Z):\n",
    "    success_count = 0\n",
    "    \n",
    "    for _ in range(Z):\n",
    "        time_elapsed = 0\n",
    "        last_success_time = -Y  # Initialize to ensure first success can happen\n",
    "        trial_successful = False\n",
    "        \n",
    "        while time_elapsed < C:\n",
    "            \n",
    "            # Check if it's time to roll a random number\n",
    "            if time_elapsed % X == 0:\n",
    "                roll = random.random()\n",
    "                if roll < probability:\n",
    "                    #print (\"success\")\n",
    "                    last_success_time = time_elapsed\n",
    "                    trial_successful = True\n",
    "            \n",
    "            # Check if it's been more than Y seconds since the last success\n",
    "            if time_elapsed - last_success_time > Y:\n",
    "                #print (\"Trial failed at \", time_elapsed)\n",
    "                trial_successful = False\n",
    "                break\n",
    "            time_elapsed += 0.1\n",
    "        \n",
    "        if trial_successful and time_elapsed >= C:\n",
    "            success_count += 1\n",
    "    \n",
    "    success_rate = success_count / Z\n",
    "    return success_rate\n",
    "\n",
    "# Example usage\n",
    "X = 1.3  # Roll a random number every 2 seconds\n",
    "Y = 5.3  # If more than 5 seconds have passed since last success, trial fails\n",
    "probability = 0.19  # Probability threshold for success\n",
    "C = 33  # Total duration of each trial in seconds\n",
    "Z = 10000000  # Number of trials to run\n",
    "\n",
    "success_rate = run_simulation(X, Y, probability, C, Z)\n",
    "print(f\"Success rate: {success_rate}\")"
   ]
  },
  {
   "cell_type": "code",
   "execution_count": 19,
   "id": "59a3f038-62e9-4d40-9abb-8e4f2446132f",
   "metadata": {},
   "outputs": [
    {
     "name": "stdout",
     "output_type": "stream",
     "text": [
      "25\n",
      "Success rate: 0.004621\n"
     ]
    }
   ],
   "source": [
    "import random\n",
    "\n",
    "def run_simulation(probability, X, Y, Z):\n",
    "    success_count = 0\n",
    "    \n",
    "    for _ in range(Z):\n",
    "        failure_steps = 0\n",
    "        steps = 0\n",
    "        \n",
    "        while True:\n",
    "            roll = random.random()\n",
    "\n",
    "            # Check for success\n",
    "            if steps >= Y:\n",
    "                success_count += 1\n",
    "                break\n",
    "            \n",
    "            if roll < probability:\n",
    "                failure_steps = 0  # Reset failure steps after a success\n",
    "            else:\n",
    "                failure_steps += 1\n",
    "            \n",
    "            # Check for failure\n",
    "            if failure_steps >= X:\n",
    "                break\n",
    "            \n",
    "            steps += 1\n",
    "    \n",
    "    success_rate = success_count / Z\n",
    "    return success_rate\n",
    "\n",
    "# Example usage\n",
    "time = 33\n",
    "Y = (int)(33/1.3 + 0.5)\n",
    "#Y = 10 # Number of steps elapsed without failure before considering a success\n",
    "print (Y)\n",
    "\n",
    "probability = 0.19  # Probability threshold for success\n",
    "X = 4  # Number of steps without success before considering a failure\n",
    "Z = 1000000  # Number of trials to run\n",
    "\n",
    "success_rate = run_simulation(probability, X, Y, Z)\n",
    "print(f\"Success rate: {success_rate}\")"
   ]
  },
  {
   "cell_type": "code",
   "execution_count": null,
   "id": "209657dd-536d-49ab-8767-871e7c67def4",
   "metadata": {},
   "outputs": [],
   "source": []
  }
 ],
 "metadata": {
  "kernelspec": {
   "display_name": "Python 3 (ipykernel)",
   "language": "python",
   "name": "python3"
  },
  "language_info": {
   "codemirror_mode": {
    "name": "ipython",
    "version": 3
   },
   "file_extension": ".py",
   "mimetype": "text/x-python",
   "name": "python",
   "nbconvert_exporter": "python",
   "pygments_lexer": "ipython3",
   "version": "3.11.7"
  }
 },
 "nbformat": 4,
 "nbformat_minor": 5
}
