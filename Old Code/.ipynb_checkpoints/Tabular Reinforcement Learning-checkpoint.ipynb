{
 "cells": [
  {
   "cell_type": "code",
   "execution_count": 14,
   "id": "411b0ae2-bd09-4e6c-b3bc-e1e8b832dffb",
   "metadata": {},
   "outputs": [
    {
     "name": "stdout",
     "output_type": "stream",
     "text": [
      "The observation was  [20.]  the action was  10.0  and the correct action was  10\n"
     ]
    },
    {
     "name": "stderr",
     "output_type": "stream",
     "text": [
      "C:\\Users\\raymo\\AppData\\Local\\Temp\\ipykernel_10096\\2989834135.py:40: DeprecationWarning: Conversion of an array with ndim > 0 to a scalar is deprecated, and will error in future. Ensure you extract a single element from your array before performing this operation. (Deprecated NumPy 1.25.)\n",
      "  action_index = (int)(observation[observable_indices])\n"
     ]
    },
    {
     "ename": "NameError",
     "evalue": "name 'rewards' is not defined",
     "output_type": "error",
     "traceback": [
      "\u001b[1;31m---------------------------------------------------------------------------\u001b[0m",
      "\u001b[1;31mNameError\u001b[0m                                 Traceback (most recent call last)",
      "Cell \u001b[1;32mIn[14], line 65\u001b[0m\n\u001b[0;32m     62\u001b[0m average_death \u001b[38;5;241m=\u001b[39m target \u001b[38;5;241m*\u001b[39m dt\u001b[38;5;241m/\u001b[39mmolecule_lifetime\n\u001b[0;32m     63\u001b[0m action_array \u001b[38;5;241m=\u001b[39m table_init(\u001b[38;5;28mlen\u001b[39m(observable_indices), target\u001b[38;5;241m*\u001b[39m\u001b[38;5;241m3\u001b[39m, average_death)\n\u001b[1;32m---> 65\u001b[0m rewards_overtime, error_overtime \u001b[38;5;241m=\u001b[39m tabular_molecule_controller(action_array, steps, target, molecule_lifetime, dt, history_length, observable_indices, RUN_SEED)\n",
      "Cell \u001b[1;32mIn[14], line 47\u001b[0m, in \u001b[0;36mtabular_molecule_controller\u001b[1;34m(action_array, steps, target, molecule_lifetime, dt, history_length, observable_indices, RUN_SEED)\u001b[0m\n\u001b[0;32m     44\u001b[0m     \u001b[38;5;28mprint\u001b[39m (\u001b[38;5;124m\"\u001b[39m\u001b[38;5;124mThe observation was \u001b[39m\u001b[38;5;124m\"\u001b[39m, observation, \u001b[38;5;124m'\u001b[39m\u001b[38;5;124m the action was \u001b[39m\u001b[38;5;124m'\u001b[39m, action, \u001b[38;5;124m'\u001b[39m\u001b[38;5;124m and the correct action was \u001b[39m\u001b[38;5;124m'\u001b[39m, info)\n\u001b[0;32m     45\u001b[0m     table_learn(action_array, [\u001b[38;5;241m0\u001b[39m], action_index, info)\n\u001b[1;32m---> 47\u001b[0m     rewards\u001b[38;5;241m.\u001b[39mappend(reward)\n\u001b[0;32m     48\u001b[0m env\u001b[38;5;241m.\u001b[39mclose()\n\u001b[0;32m     49\u001b[0m \u001b[38;5;28;01mreturn\u001b[39;00m np\u001b[38;5;241m.\u001b[39marray(rewards)\n",
      "\u001b[1;31mNameError\u001b[0m: name 'rewards' is not defined"
     ]
    }
   ],
   "source": [
    "import numpy as np\n",
    "import molcontrol\n",
    "\n",
    "# Initialization\n",
    "def table_init(dimensions, size, initial_value):\n",
    "    action_array = np.full((size,) * dimensions, initial_value, dtype=np.float32)  # Array to store parameters\n",
    "    #counter_array = np.full((size,) * dimensions, initial_value, dtype=np.float32)  # Array to store values to be updated\n",
    "    return action_array#, counter_array\n",
    "\n",
    "# Function to update array2 based on a parameter from array1\n",
    "def table_learn(action_array, counter_array, index, new_value):\n",
    "    # Get the parameter from array1\n",
    "    #counter = counter_array[index]\n",
    "\n",
    "    ##we can use this counter to more intelligently update our array\n",
    "    ##but lets not right now!\n",
    "\n",
    "    # Update array2 based on the parameter\n",
    "    # Example: Add the parameter to the value and store it in array2\n",
    "    array2[index] = array2[index]*0.9 + 0.1*new_value\n",
    "\n",
    "def tabular_molecule_controller(action_array, steps, target, molecule_lifetime, dt, history_length, observable_indices, RUN_SEED):\n",
    "    ##Here we choose our environment\n",
    "    env = molcontrol.OneMoleculeEnv(\n",
    "        initial_value=target,\n",
    "        molecule_lifetime=molecule_lifetime,\n",
    "        dt=dt,\n",
    "        max_steps=steps,\n",
    "        history_length=history_length,\n",
    "        target_value=target,\n",
    "        obs_cap=target*3,\n",
    "        render_mode=None\n",
    "    )\n",
    "    \n",
    "    RUN_SEED = 0\n",
    "    rewards = []\n",
    "\n",
    "    observation, info = env.reset(seed=RUN_SEED)\n",
    "    \n",
    "    for step in range(steps):\n",
    "        action_index = (int)(observation[observable_indices])\n",
    "        action = action_array[action_index]\n",
    "        rounded_action = np.round(action)\n",
    "        new_observation, reward, done, truncated, info = env.step(rounded_action)\n",
    "        print (\"The observation was \", observation, ' the action was ', action, ' and the correct action was ', info)\n",
    "        table_learn(action_array, [0], action_index, info)\n",
    "        \n",
    "        rewards.append(reward)\n",
    "    env.close()\n",
    "    return np.array(rewards)\n",
    "\n",
    "\n",
    "\n",
    "steps = 10\n",
    "target = 20\n",
    "molecule_lifetime = 1.0\n",
    "dt = 0.5\n",
    "history_length = 1\n",
    "observable_indices = [0]\n",
    "\n",
    "RUN_SEED = 0\n",
    "\n",
    "average_death = target * dt/molecule_lifetime\n",
    "action_array = table_init(len(observable_indices), target*3, average_death)\n",
    "\n",
    "rewards_overtime, error_overtime = tabular_molecule_controller(action_array, steps, target, molecule_lifetime, dt, history_length, observable_indices, RUN_SEED)\n"
   ]
  },
  {
   "cell_type": "code",
   "execution_count": null,
   "id": "d107b5f4-5825-4f8c-8735-bec3e923b944",
   "metadata": {},
   "outputs": [],
   "source": []
  }
 ],
 "metadata": {
  "kernelspec": {
   "display_name": "Python 3 (ipykernel)",
   "language": "python",
   "name": "python3"
  },
  "language_info": {
   "codemirror_mode": {
    "name": "ipython",
    "version": 3
   },
   "file_extension": ".py",
   "mimetype": "text/x-python",
   "name": "python",
   "nbconvert_exporter": "python",
   "pygments_lexer": "ipython3",
   "version": "3.11.7"
  }
 },
 "nbformat": 4,
 "nbformat_minor": 5
}
